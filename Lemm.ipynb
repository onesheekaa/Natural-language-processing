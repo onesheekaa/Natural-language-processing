{
 "cells": [
  {
   "cell_type": "code",
   "execution_count": 3,
   "metadata": {
    "colab": {
     "base_uri": "https://localhost:8080/"
    },
    "id": "qCxpObT2fs5l",
    "outputId": "221fff96-a046-4df1-cb58-e40b857a2757"
   },
   "outputs": [
    {
     "name": "stdout",
     "output_type": "stream",
     "text": [
      "Requirement already satisfied: nltk in /usr/local/lib/python3.10/dist-packages (3.8.1)\n",
      "Requirement already satisfied: click in /usr/local/lib/python3.10/dist-packages (from nltk) (8.1.7)\n",
      "Requirement already satisfied: joblib in /usr/local/lib/python3.10/dist-packages (from nltk) (1.3.2)\n",
      "Requirement already satisfied: regex>=2021.8.3 in /usr/local/lib/python3.10/dist-packages (from nltk) (2023.12.25)\n",
      "Requirement already satisfied: tqdm in /usr/local/lib/python3.10/dist-packages (from nltk) (4.66.2)\n"
     ]
    }
   ],
   "source": [
    "pip install nltk"
   ]
  },
  {
   "cell_type": "code",
   "execution_count": null,
   "metadata": {
    "colab": {
     "base_uri": "https://localhost:8080/"
    },
    "id": "Hk8loLw-ge_F",
    "outputId": "27dc9486-3017-4868-9f87-15aec20462d5"
   },
   "outputs": [
    {
     "name": "stderr",
     "output_type": "stream",
     "text": [
      "[nltk_data] Downloading package punkt to /root/nltk_data...\n",
      "[nltk_data]   Unzipping tokenizers/punkt.zip.\n"
     ]
    },
    {
     "data": {
      "text/plain": [
       "True"
      ]
     },
     "execution_count": 6,
     "metadata": {},
     "output_type": "execute_result"
    }
   ],
   "source": [
    "import nltk\n",
    "nltk.download('punkt')"
   ]
  },
  {
   "cell_type": "markdown",
   "metadata": {
    "id": "35xeitOUj_kN"
   },
   "source": [
    "word_tokenize"
   ]
  },
  {
   "cell_type": "code",
   "execution_count": null,
   "metadata": {
    "colab": {
     "base_uri": "https://localhost:8080/"
    },
    "id": "qZQhxrFLg8gh",
    "outputId": "f61e9551-e049-4168-f47e-5dcec84147b8"
   },
   "outputs": [
    {
     "name": "stdout",
     "output_type": "stream",
     "text": [
      "['I', 'am', 'Vanshika', 'Verma', '.', 'I', 'study', 'in', 'VIT-AP', '!']\n"
     ]
    }
   ],
   "source": [
    "from nltk.tokenize import word_tokenize\n",
    "text=\"I am Vanshika Verma. I study in VIT-AP!\"\n",
    "print(word_tokenize(text))"
   ]
  },
  {
   "cell_type": "markdown",
   "metadata": {
    "id": "9rQ9cJoVkGzA"
   },
   "source": [
    "Sentence tokenize"
   ]
  },
  {
   "cell_type": "code",
   "execution_count": null,
   "metadata": {
    "colab": {
     "base_uri": "https://localhost:8080/"
    },
    "id": "_TzRDFrjhUQ4",
    "outputId": "fc24f41d-8637-436e-ae72-09ddfe1c758a"
   },
   "outputs": [
    {
     "name": "stdout",
     "output_type": "stream",
     "text": [
      "['I am Vanshika Verma.', 'I study in VIT-AP!']\n"
     ]
    }
   ],
   "source": [
    "from nltk.tokenize import sent_tokenize\n",
    "text=\"I am Vanshika Verma. I study in VIT-AP!\"\n",
    "print(sent_tokenize(text))"
   ]
  },
  {
   "cell_type": "markdown",
   "metadata": {
    "id": "EyrNkLCXkMSW"
   },
   "source": [
    "Stop word removal"
   ]
  },
  {
   "cell_type": "code",
   "execution_count": null,
   "metadata": {
    "colab": {
     "base_uri": "https://localhost:8080/"
    },
    "id": "E2qVaWQKhmE4",
    "outputId": "6a56db77-e055-421a-e0fe-b3303b8d2923"
   },
   "outputs": [
    {
     "name": "stderr",
     "output_type": "stream",
     "text": [
      "[nltk_data] Downloading package stopwords to /root/nltk_data...\n",
      "[nltk_data]   Unzipping corpora/stopwords.zip.\n"
     ]
    },
    {
     "name": "stdout",
     "output_type": "stream",
     "text": [
      "['How', 'wood', 'woodchuck', 'chuck', 'woodchuck', 'chuck', 'wood', '?', 'He', 'chuck', ',', ',', ',', 'chuck', 'wood', 'woodchuck', 'woodchuck', 'chuck', 'wood', '.']\n"
     ]
    }
   ],
   "source": [
    "nltk.download('stopwords')\n",
    "from nltk.corpus import stopwords\n",
    "from nltk.tokenize import word_tokenize\n",
    "text = \"How much wood would a woodchuck chuck if a woodchuck could chuck wood? He would chuck, he would, as much as he could, and chuck as much wood as a woodchuck would if a woodchuck could chuck wood.\"\n",
    "text_tokens = word_tokenize(text)\n",
    "tokens_without_sw = [word for word in text_tokens if not word in stopwords.words()]\n",
    "print(tokens_without_sw)"
   ]
  },
  {
   "cell_type": "markdown",
   "metadata": {
    "id": "ieOWJ8DekSDF"
   },
   "source": [
    "Poeter Stemmer\n",
    "\n",
    "reduce the word to its basic form. the word way does not necessarily have a meaning to it"
   ]
  },
  {
   "cell_type": "code",
   "execution_count": null,
   "metadata": {
    "colab": {
     "base_uri": "https://localhost:8080/"
    },
    "id": "aThU6j-ujk3S",
    "outputId": "8d2748d7-8a16-48ef-c6a8-17b05046528a"
   },
   "outputs": [
    {
     "name": "stdout",
     "output_type": "stream",
     "text": [
      "armchair ---> armchair\n",
      "armature ---> armatur\n",
      "army ---> armi\n",
      "armhole ---> armhol\n"
     ]
    }
   ],
   "source": [
    "from nltk.stem import PorterStemmer\n",
    "porter = PorterStemmer()\n",
    "words = ['armchair','armature','army','armhole']\n",
    "for word in words:\n",
    " print(word,\"--->\",porter.stem(word))"
   ]
  },
  {
   "cell_type": "markdown",
   "metadata": {
    "id": "V8tmKhBIl6tq"
   },
   "source": [
    "Snowball Stemmer"
   ]
  },
  {
   "cell_type": "code",
   "execution_count": null,
   "metadata": {
    "colab": {
     "base_uri": "https://localhost:8080/"
    },
    "id": "avuFei8hmCig",
    "outputId": "7a8687bf-5fbb-4d31-9913-bdd01ec351dd"
   },
   "outputs": [
    {
     "name": "stdout",
     "output_type": "stream",
     "text": [
      "armchair ---> armchair\n",
      "armature ---> armatur\n",
      "army ---> armi\n",
      "armhole ---> armhol\n"
     ]
    }
   ],
   "source": [
    "from nltk.stem import SnowballStemmer\n",
    "snowball = SnowballStemmer(language='english')\n",
    "words = ['armchair','armature','army','armhole']\n",
    "for word in words:\n",
    " print(word,\"--->\",snowball.stem(word))"
   ]
  },
  {
   "cell_type": "markdown",
   "metadata": {
    "id": "IfNSfmD6mvrK"
   },
   "source": [
    "Lancaster Stemmer"
   ]
  },
  {
   "cell_type": "code",
   "execution_count": null,
   "metadata": {
    "colab": {
     "base_uri": "https://localhost:8080/"
    },
    "id": "xOxti_JUmz2A",
    "outputId": "0d155085-b92e-48d0-d4b4-7a12ba60cd51"
   },
   "outputs": [
    {
     "name": "stdout",
     "output_type": "stream",
     "text": [
      "armchair ---> armchair\n",
      "armature ---> arm\n",
      "army ---> army\n",
      "armhole ---> armhol\n"
     ]
    }
   ],
   "source": [
    "from nltk.stem import LancasterStemmer\n",
    "lancaster = LancasterStemmer()\n",
    "words = ['armchair','armature','army','armhole']\n",
    "for word in words:\n",
    " print(word,\"--->\",lancaster.stem(word))"
   ]
  },
  {
   "cell_type": "markdown",
   "metadata": {
    "id": "pCzTBfyynPRf"
   },
   "source": [
    "Regexp Stemmer"
   ]
  },
  {
   "cell_type": "code",
   "execution_count": null,
   "metadata": {
    "colab": {
     "base_uri": "https://localhost:8080/"
    },
    "id": "5Img9bSqnVTI",
    "outputId": "cc421f68-4856-4d76-fda9-c93e5c2b4868"
   },
   "outputs": [
    {
     "name": "stdout",
     "output_type": "stream",
     "text": [
      "bee ---> be\n",
      "was ---> wa\n",
      "mass ---> mas\n",
      "waiting ---> wait\n",
      "disable ---> dis\n"
     ]
    }
   ],
   "source": [
    "from nltk.stem import RegexpStemmer\n",
    "regexp = RegexpStemmer('ing$|s$|e$|able$', min=2)\n",
    "words = ['bee','was','mass','waiting','disable']\n",
    "for word in words:\n",
    " print(word,\"--->\",regexp.stem(word))"
   ]
  },
  {
   "cell_type": "code",
   "execution_count": null,
   "metadata": {
    "id": "J9P7v0DOuAY6"
   },
   "outputs": [],
   "source": []
  },
  {
   "cell_type": "markdown",
   "metadata": {
    "id": "YFYJn84ZpJ3H"
   },
   "source": [
    "Lemmatization"
   ]
  },
  {
   "cell_type": "code",
   "execution_count": null,
   "metadata": {
    "colab": {
     "base_uri": "https://localhost:8080/"
    },
    "id": "cn57AzFRpOBd",
    "outputId": "0223bd4a-e8ba-4eb1-993f-35d692d0c6e2"
   },
   "outputs": [
    {
     "name": "stderr",
     "output_type": "stream",
     "text": [
      "[nltk_data] Downloading package stopwords to /root/nltk_data...\n",
      "[nltk_data]   Package stopwords is already up-to-date!\n",
      "[nltk_data] Downloading package wordnet to /root/nltk_data...\n"
     ]
    },
    {
     "name": "stdout",
     "output_type": "stream",
     "text": [
      "['I have three visions for India.', 'In 3000 years of our history, people from all over  the world have come and invaded us, captured our lands, conquered our minds.', 'From Alexander onwards, the Greeks, the Turks, the Moguls, the Portuguese, the British,\\nthe French, the Dutch, all of them came and looted \\nus, took over what was ours.', 'Yet we have not done this to any other nation.', 'We \\nhave not conquered anyone.', 'We have not grabbed their land, their culture, \\ntheir history and tried to enforce our way of life on \\nthem.']\n",
      "['I three vision India .', 'In 3000 year history , people world come invaded u , captured land , conquered mind .', 'From Alexander onwards , Greeks , Turks , Moguls , Portuguese , British , French , Dutch , came looted u , took .', 'Yet done nation .', 'We conquered anyone .', 'We grabbed land , culture , history tried enforce way life .']\n"
     ]
    }
   ],
   "source": [
    "nltk.download('stopwords')\n",
    "nltk.download('wordnet')\n",
    "from nltk.stem import WordNetLemmatizer\n",
    "from nltk.corpus import stopwords\n",
    "paragraph = \"\"\"I have three visions for India.\n",
    "In 3000 years of our history, people from all over\n",
    "the world have come and invaded us, captured our lands,\n",
    "conquered our minds. From Alexander onwards, the Greeks, the Turks, the Moguls, the Portuguese, the British,\n",
    "the French, the Dutch, all of them came and looted\n",
    "us, took over what was ours.\n",
    "Yet we have not done this to any other nation. We\n",
    "have not conquered anyone.\n",
    "We have not grabbed their land, their culture,\n",
    "their history and tried to enforce our way of life on\n",
    "them.\n",
    "\"\"\"\n",
    "sentences = nltk.sent_tokenize(paragraph)\n",
    "print(sentences)\n",
    "\n",
    "lemmatizer = WordNetLemmatizer()\n",
    "# Lemmatization\n",
    "for i in range(len(sentences)):\n",
    " words = nltk.word_tokenize(sentences[i])\n",
    " words = [lemmatizer.lemmatize(word) for word\n",
    "in words if word not in\n",
    "set(stopwords.words('english'))]\n",
    " sentences[i] = ' '.join(words)\n",
    "\n",
    "print(sentences)"
   ]
  },
  {
   "cell_type": "markdown",
   "metadata": {
    "id": "urHybnO0q2Bq"
   },
   "source": [
    "Rare word removal"
   ]
  },
  {
   "cell_type": "code",
   "execution_count": null,
   "metadata": {
    "colab": {
     "base_uri": "https://localhost:8080/"
    },
    "id": "wpN84uBeqoG0",
    "outputId": "2c50afbc-9681-4952-bf6e-f52a20c48d40"
   },
   "outputs": [
    {
     "name": "stdout",
     "output_type": "stream",
     "text": [
      "['am', 'test', 'java']\n"
     ]
    }
   ],
   "source": [
    "from nltk import FreqDist\n",
    "tokens=['hi','i','am','am','whatever','this','is','just','a','test','test','java','python','java','vanshika']\n",
    "freq_dist = FreqDist(tokens)\n",
    "sorted_tokens=dict(sorted(freq_dist.items(), key=lambda x:x[1]))\n",
    "final_tokens=[]\n",
    "for x,y in sorted_tokens.items():\n",
    " if y>1:\n",
    "  final_tokens.append(x)\n",
    "print(final_tokens)"
   ]
  },
  {
   "cell_type": "markdown",
   "metadata": {
    "id": "EUj2YK54w5Aq"
   },
   "source": [
    "Frequency Distribution"
   ]
  },
  {
   "cell_type": "code",
   "execution_count": 4,
   "metadata": {
    "colab": {
     "base_uri": "https://localhost:8080/"
    },
    "id": "6DlrsIbzuCLL",
    "outputId": "0a9ec293-d75d-4300-dfea-1f96bdd77d64"
   },
   "outputs": [
    {
     "name": "stderr",
     "output_type": "stream",
     "text": [
      "[nltk_data] Downloading package punkt to /root/nltk_data...\n",
      "[nltk_data]   Unzipping tokenizers/punkt.zip.\n"
     ]
    },
    {
     "name": "stdout",
     "output_type": "stream",
     "text": [
      "Word Frequency using NLTK:\n",
      "how: 1\n",
      "much: 2\n",
      "wood: 4\n",
      "could: 4\n",
      "a: 4\n",
      "woodchuck: 4\n",
      "chuck: 4\n",
      "if: 2\n",
      "?: 1\n",
      "as: 2\n",
      ",: 1\n",
      ".: 1\n"
     ]
    }
   ],
   "source": [
    "import nltk\n",
    "nltk.download('punkt')\n",
    "from nltk.tokenize import word_tokenize\n",
    "from collections import Counter\n",
    "\n",
    "def word_frequency_nltk(text):\n",
    "    words = word_tokenize(text.lower())\n",
    "    word_counts = Counter(words)\n",
    "    return word_counts\n",
    "def main():\n",
    "    paragraph = \"\"\"\n",
    "    How much wood could a woodchuck chuck If a woodchuck could chuck wood? As much wood as a woodchuck could chuck, If a woodchuck could chuck wood.\n",
    "    \"\"\"\n",
    "    frequency = word_frequency_nltk(paragraph)\n",
    "    print(\"Word Frequency using NLTK:\")\n",
    "    for word, count in frequency.items():\n",
    "        print(f\"{word}: {count}\")\n",
    "if __name__ == \"__main__\":\n",
    "    main()"
   ]
  },
  {
   "cell_type": "markdown",
   "metadata": {
    "id": "kS0xZ1VdwohN"
   },
   "source": [
    "Frequency count"
   ]
  },
  {
   "cell_type": "code",
   "execution_count": 8,
   "metadata": {
    "colab": {
     "base_uri": "https://localhost:8080/",
     "height": 833
    },
    "id": "Ap1MNcU7w1_5",
    "outputId": "c7fd8f02-a393-4c1c-88b5-5bf5c55df7cd"
   },
   "outputs": [
    {
     "name": "stdout",
     "output_type": "stream",
     "text": [
      "Word Frequency using NLTK:\n",
      "how: 1\n",
      "much: 2\n",
      "wood: 4\n",
      "could: 4\n",
      "a: 4\n",
      "woodchuck: 4\n",
      "chuck: 4\n",
      "if: 2\n",
      "?: 1\n",
      "as: 2\n",
      ",: 1\n",
      ".: 1\n"
     ]
    },
    {
     "data": {
      "image/png": "[encoded data removed]",
      "text/plain": [
       "<Figure size 1000x600 with 1 Axes>"
      ]
     },
     "metadata": {},
     "output_type": "display_data"
    }
   ],
   "source": [
    "import nltk\n",
    "from nltk.tokenize import word_tokenize\n",
    "from collections import Counter\n",
    "import matplotlib.pyplot as plt\n",
    "\n",
    "def word_frequency_nltk(text):\n",
    "    words = word_tokenize(text.lower())\n",
    "    word_counts = Counter(words)\n",
    "    return word_counts\n",
    "\n",
    "def plot_word_frequency(word_freq):\n",
    "    plt.figure(figsize=(10, 6))\n",
    "    plt.bar(word_freq.keys(), word_freq.values())\n",
    "    plt.xlabel('Words')\n",
    "    plt.ylabel('Frequency')\n",
    "    plt.title('Word Frequency')\n",
    "    plt.xticks(rotation=45)\n",
    "    plt.tight_layout()\n",
    "    plt.show()\n",
    "\n",
    "def main():\n",
    "    paragraph = \"\"\"\n",
    "    How much wood could a woodchuck chuck If a woodchuck could chuck wood? As much wood as a woodchuck could chuck, If a woodchuck could chuck wood.\n",
    "    \"\"\"\n",
    "    frequency = word_frequency_nltk(paragraph)\n",
    "    print(\"Word Frequency using NLTK:\")\n",
    "    for word, count in frequency.items():\n",
    "        print(f\"{word}: {count}\")\n",
    "    plot_word_frequency(frequency)\n",
    "\n",
    "if __name__ == \"__main__\":\n",
    "    main()"
   ]
  },
  {
   "cell_type": "markdown",
   "metadata": {
    "id": "EkkOdOxe0QuN"
   },
   "source": [
    "POS tagging"
   ]
  },
  {
   "cell_type": "code",
   "execution_count": 12,
   "metadata": {
    "colab": {
     "base_uri": "https://localhost:8080/"
    },
    "id": "G5tK6l220PLS",
    "outputId": "639a8f36-adca-4bcc-a3d6-71fcc0b41f8c"
   },
   "outputs": [
    {
     "name": "stdout",
     "output_type": "stream",
     "text": [
      "[('This', 'DT'), ('is', 'VBZ'), ('a', 'DT'), ('simple', 'JJ'), ('example', 'NN'), ('sentence', 'NN'), ('.', '.')]\n"
     ]
    },
    {
     "name": "stderr",
     "output_type": "stream",
     "text": [
      "[nltk_data] Downloading package punkt to /root/nltk_data...\n",
      "[nltk_data]   Package punkt is already up-to-date!\n",
      "[nltk_data] Downloading package averaged_perceptron_tagger to\n",
      "[nltk_data]     /root/nltk_data...\n",
      "[nltk_data]   Package averaged_perceptron_tagger is already up-to-\n",
      "[nltk_data]       date!\n"
     ]
    }
   ],
   "source": [
    "import nltk\n",
    "from nltk.tokenize import word_tokenize\n",
    "from nltk import pos_tag\n",
    "\n",
    "# Download NLTK data (if not already downloaded)\n",
    "nltk.download('punkt')\n",
    "nltk.download('averaged_perceptron_tagger')\n",
    "\n",
    "def pos_tagging(text):\n",
    "    # Tokenize the text into words\n",
    "    words = word_tokenize(text)\n",
    "\n",
    "    # Perform POS tagging\n",
    "    pos_tags = pos_tag(words)\n",
    "\n",
    "    return pos_tags\n",
    "\n",
    "# Example usage\n",
    "text_example = \"This is a simple example sentence.\"\n",
    "result = pos_tagging(text_example)\n",
    "\n",
    "# Print the POS tags\n",
    "print(result)\n"
   ]
  },
  {
   "cell_type": "markdown",
   "metadata": {
    "id": "akh-Nloq0cqF"
   },
   "source": [
    "N-gram tagger"
   ]
  },
  {
   "cell_type": "code",
   "execution_count": 10,
   "metadata": {
    "colab": {
     "base_uri": "https://localhost:8080/"
    },
    "id": "K-A89AuM1A6V",
    "outputId": "82411371-5c51-4f21-adb4-77aa031b03ec"
   },
   "outputs": [
    {
     "name": "stderr",
     "output_type": "stream",
     "text": [
      "[nltk_data] Downloading package treebank to /root/nltk_data...\n",
      "[nltk_data]   Unzipping corpora/treebank.zip.\n",
      "<ipython-input-10-c1b2e757d285>:22: DeprecationWarning: \n",
      "  Function evaluate() has been deprecated.  Use accuracy(gold)\n",
      "  instead.\n",
      "  accuracy = trigram_tagger.evaluate(test_data)\n"
     ]
    },
    {
     "name": "stdout",
     "output_type": "stream",
     "text": [
      "Trigram Tagger Accuracy: 86.47%\n",
      "POS Tags:\n",
      "[('This', 'DT'), ('is', 'VBZ'), ('an', 'DT'), ('example', 'NN'), ('sentence', None), ('.', '.')]\n"
     ]
    }
   ],
   "source": [
    "import nltk\n",
    "from nltk.corpus import treebank\n",
    "from nltk.tag import UnigramTagger, BigramTagger, TrigramTagger\n",
    "\n",
    "# Download NLTK data (if not already downloaded)\n",
    "nltk.download('treebank')\n",
    "\n",
    "# Load the Penn Treebank dataset\n",
    "train_data = treebank.tagged_sents()[:3000]\n",
    "test_data = treebank.tagged_sents()[3000:]\n",
    "\n",
    "# Train a unigram tagger\n",
    "unigram_tagger = UnigramTagger(train_data)\n",
    "\n",
    "# Train a bigram tagger with backoff to the unigram tagger\n",
    "bigram_tagger = BigramTagger(train_data, backoff=unigram_tagger)\n",
    "\n",
    "# Train a trigram tagger with backoff to the bigram tagger\n",
    "trigram_tagger = TrigramTagger(train_data, backoff=bigram_tagger)\n",
    "\n",
    "# Evaluate the trigram tagger on the test data\n",
    "accuracy = trigram_tagger.evaluate(test_data)\n",
    "print(f\"Trigram Tagger Accuracy: {accuracy * 100:.2f}%\")\n",
    "\n",
    "# Example usage of the trigram tagger\n",
    "sentence = \"This is an example sentence.\"\n",
    "tokenized_sentence = nltk.word_tokenize(sentence)\n",
    "tags = trigram_tagger.tag(tokenized_sentence)\n",
    "\n",
    "# Print the POS tags\n",
    "print(\"POS Tags:\")\n",
    "print(tags)\n"
   ]
  }
 ],
 "metadata": {
  "colab": {
   "provenance": []
  },
  "kernelspec": {
   "display_name": "Python 3",
   "name": "python3"
  },
  "language_info": {
   "name": "python"
  }
 },
 "nbformat": 4,
 "nbformat_minor": 0
}
